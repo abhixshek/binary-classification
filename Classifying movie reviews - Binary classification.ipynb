{
 "cells": [
  {
   "cell_type": "code",
   "execution_count": 1,
   "id": "c02ce1b9-4aca-4891-b4d9-3653b0c9dbfe",
   "metadata": {},
   "outputs": [],
   "source": [
    "# setup\n",
    "import numpy as np\n",
    "import pandas as pd\n",
    "\n",
    "import matplotlib.pyplot as plt"
   ]
  },
  {
   "cell_type": "markdown",
   "id": "7c39c889-ccb2-410d-8fe6-66fd8c97fc96",
   "metadata": {},
   "source": [
    "# Classifying movie reviews - Binary classification"
   ]
  },
  {
   "cell_type": "markdown",
   "id": "b2a96a31-6f8a-4b26-8e18-264254b82279",
   "metadata": {},
   "source": [
    "## Get the data:"
   ]
  },
  {
   "cell_type": "code",
   "execution_count": 2,
   "id": "e165003a-d4ec-41f8-9411-31de189eae71",
   "metadata": {},
   "outputs": [],
   "source": [
    "# from tensorflow.keras.datasets import mnist\n",
    "from tensorflow.keras.datasets import imdb"
   ]
  },
  {
   "cell_type": "markdown",
   "id": "08289537-f7ab-4dce-9bd7-dcd518fa980e",
   "metadata": {},
   "source": [
    "```\n",
    "This is a dataset of 25,000 movies reviews from IMDB, labeled by sentiment\n",
    "(positive/negative). Reviews have been preprocessed, and each review is\n",
    "encoded as a list of word indexes (integers).\n",
    "For convenience, words are indexed by overall frequency in the dataset,\n",
    "so that for instance the integer \"3\" encodes the 3rd most frequent word in\n",
    "the data. This allows for quick filtering operations such as:\n",
    "\"only consider the top 10,000 most\n",
    "common words, but eliminate the top 20 most common words\".\n",
    "```"
   ]
  },
  {
   "cell_type": "code",
   "execution_count": 3,
   "id": "dbbf8503-9e4f-4e81-bb76-2e6feaf45fb3",
   "metadata": {},
   "outputs": [],
   "source": [
    "(train_data, train_labels), (test_data, test_labels) = imdb.load_data(num_words=10000)"
   ]
  },
  {
   "cell_type": "code",
   "execution_count": 4,
   "id": "374eb3de-7294-4edc-aafb-605c207a076d",
   "metadata": {},
   "outputs": [
    {
     "data": {
      "text/plain": [
       "(25000,)"
      ]
     },
     "execution_count": 4,
     "metadata": {},
     "output_type": "execute_result"
    }
   ],
   "source": [
    "train_data.shape"
   ]
  },
  {
   "cell_type": "code",
   "execution_count": 5,
   "id": "63e0eac3-7088-4229-a173-ba0264b73bfe",
   "metadata": {},
   "outputs": [
    {
     "data": {
      "text/plain": [
       "numpy.ndarray"
      ]
     },
     "execution_count": 5,
     "metadata": {},
     "output_type": "execute_result"
    }
   ],
   "source": [
    "type(train_data)"
   ]
  },
  {
   "cell_type": "code",
   "execution_count": 6,
   "id": "fee93bd2-d97e-4411-a67e-04b7619172e8",
   "metadata": {},
   "outputs": [
    {
     "data": {
      "text/plain": [
       "dtype('O')"
      ]
     },
     "execution_count": 6,
     "metadata": {},
     "output_type": "execute_result"
    }
   ],
   "source": [
    "train_data.dtype\n",
    "# its NOT a 2D array. instead its every element is a python list."
   ]
  },
  {
   "cell_type": "code",
   "execution_count": 7,
   "id": "864b6353-c8ac-4010-a1c2-749e62b0c11c",
   "metadata": {},
   "outputs": [
    {
     "data": {
      "text/plain": [
       "list"
      ]
     },
     "execution_count": 7,
     "metadata": {},
     "output_type": "execute_result"
    }
   ],
   "source": [
    "type(train_data[0])"
   ]
  },
  {
   "cell_type": "code",
   "execution_count": 8,
   "id": "5c1fc7c0-5996-4cf1-b3dc-02bfe377d78e",
   "metadata": {},
   "outputs": [
    {
     "data": {
      "text/plain": [
       "[1, 14, 22, 16, 43]"
      ]
     },
     "execution_count": 8,
     "metadata": {},
     "output_type": "execute_result"
    }
   ],
   "source": [
    "train_data[0][:5]"
   ]
  },
  {
   "cell_type": "code",
   "execution_count": 9,
   "id": "993a2ced-5ba2-46cb-b820-2066639d834e",
   "metadata": {},
   "outputs": [
    {
     "name": "stdout",
     "output_type": "stream",
     "text": [
      "218\n",
      "189\n",
      "141\n",
      "550\n",
      "147\n",
      "43\n"
     ]
    }
   ],
   "source": [
    "for idx, i in enumerate(train_data):\n",
    "    print(len(i))\n",
    "    if idx == 5:\n",
    "        break"
   ]
  },
  {
   "cell_type": "markdown",
   "id": "6fe805ce-48f6-4b0a-9067-a05d2c9879b2",
   "metadata": {},
   "source": [
    "So you notice that every python list has a different length. \n",
    "\n",
    "because ofcourse movie reviews are subjectively written, someone might right a 1 word review, another might write a whole paragraph in the review. \n",
    "\n",
    "therefore, it was not actually possible to create a 2D Numpy array because it would need fixed no. of elements on each axis."
   ]
  },
  {
   "cell_type": "markdown",
   "id": "f7ca1aac-6e29-4dba-86f6-c6c03ec6e064",
   "metadata": {},
   "source": [
    "`imdb.load_data(num_words=10000)`\n",
    "\n",
    "in this , what num_words=10000 does is discard all words from a review which are not in the top 10000 most frequent words in the dataset. "
   ]
  },
  {
   "cell_type": "code",
   "execution_count": 10,
   "id": "80f2d237-2c3c-4958-a2b0-98f7ef194e87",
   "metadata": {},
   "outputs": [
    {
     "data": {
      "text/plain": [
       "9999"
      ]
     },
     "execution_count": 10,
     "metadata": {},
     "output_type": "execute_result"
    }
   ],
   "source": [
    "max([max(sequence) for sequence in train_data])"
   ]
  },
  {
   "cell_type": "code",
   "execution_count": 11,
   "id": "55eb2da9-6f19-4117-860f-9e95f6e11095",
   "metadata": {},
   "outputs": [
    {
     "data": {
      "text/plain": [
       "1"
      ]
     },
     "execution_count": 11,
     "metadata": {},
     "output_type": "execute_result"
    }
   ],
   "source": [
    "min([min(sequence) for sequence in train_data])"
   ]
  },
  {
   "cell_type": "code",
   "execution_count": 12,
   "id": "9e75d1c0-7b41-4cff-9e56-a6b355535bca",
   "metadata": {},
   "outputs": [
    {
     "data": {
      "text/plain": [
       "array([1, 0, 0, 1, 0], dtype=int64)"
      ]
     },
     "execution_count": 12,
     "metadata": {},
     "output_type": "execute_result"
    }
   ],
   "source": [
    "train_labels[:5]"
   ]
  },
  {
   "cell_type": "markdown",
   "id": "175e1269-1fcd-4b12-af35-dda8c13aee13",
   "metadata": {},
   "source": [
    "0 stands for a negative review. 1 stands for a positive review."
   ]
  },
  {
   "cell_type": "markdown",
   "id": "4cde5b3b-126f-44a4-9b5e-033020909c1e",
   "metadata": {},
   "source": [
    "**decoding reviews back to text**"
   ]
  },
  {
   "cell_type": "code",
   "execution_count": 13,
   "id": "eb5f30c7-5f83-4b7a-b214-8e3ffe6d2806",
   "metadata": {},
   "outputs": [],
   "source": [
    "word_index = imdb.get_word_index()"
   ]
  },
  {
   "cell_type": "code",
   "execution_count": 14,
   "id": "e30c6361-f369-4996-ad31-d09fd8ab52d0",
   "metadata": {},
   "outputs": [
    {
     "data": {
      "text/plain": [
       "dict"
      ]
     },
     "execution_count": 14,
     "metadata": {},
     "output_type": "execute_result"
    }
   ],
   "source": [
    "type(word_index)"
   ]
  },
  {
   "cell_type": "code",
   "execution_count": 15,
   "id": "ed3e9bad-1a7f-4b50-a189-c48da7a7dfcb",
   "metadata": {},
   "outputs": [],
   "source": [
    "reverse_word_index = dict([(value, key) for (key, value) in word_index.items()])"
   ]
  },
  {
   "cell_type": "markdown",
   "id": "ad6e4717-7cba-4772-8f14-d8b7729ddd58",
   "metadata": {},
   "source": [
    "Note that the indices in the dataset are offset by 3 because 0, 1, and 2 are reserved indices for “padding,” “start of sequence,” and “unknown.”\n",
    "\n",
    "(\"unknown\" could be words used in the reviews dataset that are not in the english dictionary)\n",
    "\n",
    "therefore when dealing with this word index dictionary, you want to query (i-3) to match with the actual word in the dictionary."
   ]
  },
  {
   "cell_type": "code",
   "execution_count": 16,
   "id": "d77341ae-2bcb-472b-aee1-343dddd963a5",
   "metadata": {},
   "outputs": [],
   "source": [
    "decoded_review = \" \".join([reverse_word_index.get(i-3, \"?\") for i in train_data[0]])"
   ]
  },
  {
   "cell_type": "code",
   "execution_count": 17,
   "id": "542e4534-eabe-4008-b461-49bf7e6a5372",
   "metadata": {},
   "outputs": [
    {
     "data": {
      "text/plain": [
       "\"? this film was just brilliant casting location scenery story direction everyone's really suited the part they played and you could just imagine being there robert ? is an amazing actor and now the same being director ? father came from the same scottish island as myself so i loved the fact there was a real connection with this film the witty remarks throughout the film were great it was just brilliant so much that i bought the film as soon as it was released for ? and would recommend it to everyone to watch and the fly fishing was amazing really cried at the end it was so sad and you know what they say if you cry at a film it must have been good and this definitely was also ? to the two little boy's that played the ? of norman and paul they were just brilliant children are often left out of the ? list i think because the stars that play them all grown up are such a big profile for the whole film but these children are amazing and should be praised for what they have done don't you think the whole story was so lovely because it was true and was someone's life after all that was shared with us all\""
      ]
     },
     "execution_count": 17,
     "metadata": {},
     "output_type": "execute_result"
    }
   ],
   "source": [
    "decoded_review"
   ]
  },
  {
   "cell_type": "markdown",
   "id": "ffb83bff-eb4d-48ed-af55-981fc1d6ee33",
   "metadata": {},
   "source": [
    "## Prepare the data:"
   ]
  },
  {
   "cell_type": "code",
   "execution_count": 18,
   "id": "11e9f47f-b624-44c1-a644-177cf5185969",
   "metadata": {},
   "outputs": [],
   "source": [
    "# encoding the integer sequences via multi-hot encoding\n",
    "import numpy as np\n",
    "\n",
    "def vectorize_sequences(sequences, dimension=10000):\n",
    "    results = np.zeros((len(sequences), dimension))\n",
    "    for i, sequence in enumerate(sequences):\n",
    "        for j in sequence:\n",
    "            results[i, j] = 1.\n",
    "    return results"
   ]
  },
  {
   "cell_type": "code",
   "execution_count": 19,
   "id": "75a05c43-aa03-452a-b002-906c08d25d35",
   "metadata": {},
   "outputs": [],
   "source": [
    "x_train = vectorize_sequences(train_data)\n",
    "x_test = vectorize_sequences(test_data)"
   ]
  },
  {
   "cell_type": "code",
   "execution_count": 20,
   "id": "32647fba-ed82-40ff-b8fa-8ee8ec24f717",
   "metadata": {},
   "outputs": [
    {
     "data": {
      "text/plain": [
       "array([0., 1., 1., ..., 0., 0., 0.])"
      ]
     },
     "execution_count": 20,
     "metadata": {},
     "output_type": "execute_result"
    }
   ],
   "source": [
    "x_train[0]"
   ]
  },
  {
   "cell_type": "code",
   "execution_count": 21,
   "id": "7e112f11-09ee-4bef-a16f-94d77bbe1bca",
   "metadata": {},
   "outputs": [
    {
     "data": {
      "text/plain": [
       "array([1, 0, 0, ..., 0, 1, 0], dtype=int64)"
      ]
     },
     "execution_count": 21,
     "metadata": {},
     "output_type": "execute_result"
    }
   ],
   "source": [
    "train_labels"
   ]
  },
  {
   "cell_type": "code",
   "execution_count": 22,
   "id": "0bb8b52f-7e0c-4386-acc0-aad45b533ef4",
   "metadata": {},
   "outputs": [],
   "source": [
    "y_train = np.asarray(train_labels).astype(\"float32\") # actually np.asarray() was not needed as train_labels and test_labels is already a numpy array with int64 elements.\n",
    "y_test = np.asarray(test_labels).astype(\"float32\")"
   ]
  },
  {
   "cell_type": "code",
   "execution_count": 23,
   "id": "6fd90c34-c7d1-46e0-ae8d-bb14e133a853",
   "metadata": {},
   "outputs": [],
   "source": [
    "from tensorflow import keras\n",
    "from tensorflow.keras import layers"
   ]
  },
  {
   "cell_type": "code",
   "execution_count": 24,
   "id": "9d479e69-fb95-419b-8586-c51bdba8f0df",
   "metadata": {},
   "outputs": [],
   "source": [
    "# model architecture\n",
    "model = keras.Sequential([\n",
    "    layers.Dense(units=16, activation=\"relu\"),\n",
    "    layers.Dense(units=16, activation=\"relu\"),\n",
    "    layers.Dense(units=1, activation=\"sigmoid\")\n",
    "])"
   ]
  },
  {
   "cell_type": "code",
   "execution_count": 25,
   "id": "6097b342-5d45-4cbf-8bdf-4157c6f94201",
   "metadata": {},
   "outputs": [],
   "source": [
    "# compile the model\n",
    "model.compile(\n",
    "    optimizer=\"rmsprop\",\n",
    "    loss=\"binary_crossentropy\",\n",
    "    metrics=[\"accuracy\"]\n",
    ")"
   ]
  },
  {
   "cell_type": "code",
   "execution_count": 26,
   "id": "ead05b72-0e0b-40b1-ac7a-dfaa89adeace",
   "metadata": {},
   "outputs": [
    {
     "data": {
      "text/plain": [
       "(25000, 10000)"
      ]
     },
     "execution_count": 26,
     "metadata": {},
     "output_type": "execute_result"
    }
   ],
   "source": [
    "x_train.shape"
   ]
  },
  {
   "cell_type": "code",
   "execution_count": 27,
   "id": "593f26a5-16b2-44c3-a7c0-acdd3aca8c72",
   "metadata": {},
   "outputs": [],
   "source": [
    "x_val = x_train[:10000]\n",
    "partial_x_train = x_train[10000:]\n",
    "\n",
    "y_val = y_train[:10000]\n",
    "partial_y_train = y_train[10000:]"
   ]
  },
  {
   "cell_type": "markdown",
   "id": "34fd4cbe-f045-4af6-86cf-96a717aa81db",
   "metadata": {},
   "source": [
    "## Model Training:"
   ]
  },
  {
   "cell_type": "markdown",
   "id": "65628ecb-7702-4e87-a6b0-a9bfd6deb571",
   "metadata": {},
   "source": [
    "We will now train the model for **20 epochs** (20 iterations over all samples in the training data(`partial_y_train`)) in **mini-batches of 512 samples**.\n",
    "\n",
    "At the same time, we will monitor loss and accuracy on the 10,000 samples that we set apart."
   ]
  },
  {
   "cell_type": "code",
   "execution_count": 28,
   "id": "112155a1-9f8d-4f71-abf4-f01faa9c7773",
   "metadata": {},
   "outputs": [
    {
     "name": "stdout",
     "output_type": "stream",
     "text": [
      "Epoch 1/20\n",
      "\u001b[1m30/30\u001b[0m \u001b[32m━━━━━━━━━━━━━━━━━━━━\u001b[0m\u001b[37m\u001b[0m \u001b[1m1s\u001b[0m 21ms/step - accuracy: 0.6997 - loss: 0.5997 - val_accuracy: 0.8532 - val_loss: 0.4182\n",
      "Epoch 2/20\n",
      "\u001b[1m30/30\u001b[0m \u001b[32m━━━━━━━━━━━━━━━━━━━━\u001b[0m\u001b[37m\u001b[0m \u001b[1m0s\u001b[0m 7ms/step - accuracy: 0.8892 - loss: 0.3572 - val_accuracy: 0.8790 - val_loss: 0.3243\n",
      "Epoch 3/20\n",
      "\u001b[1m30/30\u001b[0m \u001b[32m━━━━━━━━━━━━━━━━━━━━\u001b[0m\u001b[37m\u001b[0m \u001b[1m0s\u001b[0m 7ms/step - accuracy: 0.9154 - loss: 0.2606 - val_accuracy: 0.8883 - val_loss: 0.2910\n",
      "Epoch 4/20\n",
      "\u001b[1m30/30\u001b[0m \u001b[32m━━━━━━━━━━━━━━━━━━━━\u001b[0m\u001b[37m\u001b[0m \u001b[1m0s\u001b[0m 7ms/step - accuracy: 0.9355 - loss: 0.2051 - val_accuracy: 0.8753 - val_loss: 0.3088\n",
      "Epoch 5/20\n",
      "\u001b[1m30/30\u001b[0m \u001b[32m━━━━━━━━━━━━━━━━━━━━\u001b[0m\u001b[37m\u001b[0m \u001b[1m0s\u001b[0m 7ms/step - accuracy: 0.9482 - loss: 0.1682 - val_accuracy: 0.8785 - val_loss: 0.3026\n",
      "Epoch 6/20\n",
      "\u001b[1m30/30\u001b[0m \u001b[32m━━━━━━━━━━━━━━━━━━━━\u001b[0m\u001b[37m\u001b[0m \u001b[1m0s\u001b[0m 7ms/step - accuracy: 0.9545 - loss: 0.1472 - val_accuracy: 0.8880 - val_loss: 0.2830\n",
      "Epoch 7/20\n",
      "\u001b[1m30/30\u001b[0m \u001b[32m━━━━━━━━━━━━━━━━━━━━\u001b[0m\u001b[37m\u001b[0m \u001b[1m0s\u001b[0m 7ms/step - accuracy: 0.9652 - loss: 0.1210 - val_accuracy: 0.8857 - val_loss: 0.2921\n",
      "Epoch 8/20\n",
      "\u001b[1m30/30\u001b[0m \u001b[32m━━━━━━━━━━━━━━━━━━━━\u001b[0m\u001b[37m\u001b[0m \u001b[1m0s\u001b[0m 7ms/step - accuracy: 0.9710 - loss: 0.1037 - val_accuracy: 0.8832 - val_loss: 0.3054\n",
      "Epoch 9/20\n",
      "\u001b[1m30/30\u001b[0m \u001b[32m━━━━━━━━━━━━━━━━━━━━\u001b[0m\u001b[37m\u001b[0m \u001b[1m0s\u001b[0m 7ms/step - accuracy: 0.9784 - loss: 0.0880 - val_accuracy: 0.8826 - val_loss: 0.3215\n",
      "Epoch 10/20\n",
      "\u001b[1m30/30\u001b[0m \u001b[32m━━━━━━━━━━━━━━━━━━━━\u001b[0m\u001b[37m\u001b[0m \u001b[1m0s\u001b[0m 7ms/step - accuracy: 0.9824 - loss: 0.0763 - val_accuracy: 0.8715 - val_loss: 0.3503\n",
      "Epoch 11/20\n",
      "\u001b[1m30/30\u001b[0m \u001b[32m━━━━━━━━━━━━━━━━━━━━\u001b[0m\u001b[37m\u001b[0m \u001b[1m0s\u001b[0m 7ms/step - accuracy: 0.9820 - loss: 0.0698 - val_accuracy: 0.8810 - val_loss: 0.3483\n",
      "Epoch 12/20\n",
      "\u001b[1m30/30\u001b[0m \u001b[32m━━━━━━━━━━━━━━━━━━━━\u001b[0m\u001b[37m\u001b[0m \u001b[1m0s\u001b[0m 7ms/step - accuracy: 0.9918 - loss: 0.0521 - val_accuracy: 0.8793 - val_loss: 0.3733\n",
      "Epoch 13/20\n",
      "\u001b[1m30/30\u001b[0m \u001b[32m━━━━━━━━━━━━━━━━━━━━\u001b[0m\u001b[37m\u001b[0m \u001b[1m0s\u001b[0m 7ms/step - accuracy: 0.9900 - loss: 0.0481 - val_accuracy: 0.8723 - val_loss: 0.3943\n",
      "Epoch 14/20\n",
      "\u001b[1m30/30\u001b[0m \u001b[32m━━━━━━━━━━━━━━━━━━━━\u001b[0m\u001b[37m\u001b[0m \u001b[1m0s\u001b[0m 7ms/step - accuracy: 0.9915 - loss: 0.0449 - val_accuracy: 0.8648 - val_loss: 0.4793\n",
      "Epoch 15/20\n",
      "\u001b[1m30/30\u001b[0m \u001b[32m━━━━━━━━━━━━━━━━━━━━\u001b[0m\u001b[37m\u001b[0m \u001b[1m0s\u001b[0m 7ms/step - accuracy: 0.9933 - loss: 0.0403 - val_accuracy: 0.8722 - val_loss: 0.4306\n",
      "Epoch 16/20\n",
      "\u001b[1m30/30\u001b[0m \u001b[32m━━━━━━━━━━━━━━━━━━━━\u001b[0m\u001b[37m\u001b[0m \u001b[1m0s\u001b[0m 7ms/step - accuracy: 0.9964 - loss: 0.0270 - val_accuracy: 0.8746 - val_loss: 0.4586\n",
      "Epoch 17/20\n",
      "\u001b[1m30/30\u001b[0m \u001b[32m━━━━━━━━━━━━━━━━━━━━\u001b[0m\u001b[37m\u001b[0m \u001b[1m0s\u001b[0m 7ms/step - accuracy: 0.9959 - loss: 0.0249 - val_accuracy: 0.8638 - val_loss: 0.4898\n",
      "Epoch 18/20\n",
      "\u001b[1m30/30\u001b[0m \u001b[32m━━━━━━━━━━━━━━━━━━━━\u001b[0m\u001b[37m\u001b[0m \u001b[1m0s\u001b[0m 7ms/step - accuracy: 0.9968 - loss: 0.0220 - val_accuracy: 0.8724 - val_loss: 0.5001\n",
      "Epoch 19/20\n",
      "\u001b[1m30/30\u001b[0m \u001b[32m━━━━━━━━━━━━━━━━━━━━\u001b[0m\u001b[37m\u001b[0m \u001b[1m0s\u001b[0m 7ms/step - accuracy: 0.9991 - loss: 0.0161 - val_accuracy: 0.8701 - val_loss: 0.5061\n",
      "Epoch 20/20\n",
      "\u001b[1m30/30\u001b[0m \u001b[32m━━━━━━━━━━━━━━━━━━━━\u001b[0m\u001b[37m\u001b[0m \u001b[1m0s\u001b[0m 7ms/step - accuracy: 0.9983 - loss: 0.0157 - val_accuracy: 0.8697 - val_loss: 0.5294\n"
     ]
    }
   ],
   "source": [
    "history = model.fit(partial_x_train,\n",
    "                    partial_y_train,\n",
    "                   epochs=20,\n",
    "                   batch_size=512,\n",
    "                   validation_data=(x_val, y_val))"
   ]
  },
  {
   "cell_type": "markdown",
   "id": "918c9d62-70aa-4bbf-9486-d5107d41527f",
   "metadata": {},
   "source": [
    "## Evaluation:"
   ]
  },
  {
   "cell_type": "code",
   "execution_count": 29,
   "id": "ecbf5ee5-50ac-4102-aa45-ac39a114eb36",
   "metadata": {},
   "outputs": [],
   "source": [
    "loss_and_metrics = pd.DataFrame(history.history)"
   ]
  },
  {
   "cell_type": "code",
   "execution_count": 30,
   "id": "60b77014-792d-4d19-9c72-67e136d534f9",
   "metadata": {},
   "outputs": [
    {
     "data": {
      "text/html": [
       "<div>\n",
       "<style scoped>\n",
       "    .dataframe tbody tr th:only-of-type {\n",
       "        vertical-align: middle;\n",
       "    }\n",
       "\n",
       "    .dataframe tbody tr th {\n",
       "        vertical-align: top;\n",
       "    }\n",
       "\n",
       "    .dataframe thead th {\n",
       "        text-align: right;\n",
       "    }\n",
       "</style>\n",
       "<table border=\"1\" class=\"dataframe\">\n",
       "  <thead>\n",
       "    <tr style=\"text-align: right;\">\n",
       "      <th></th>\n",
       "      <th>accuracy</th>\n",
       "      <th>loss</th>\n",
       "      <th>val_accuracy</th>\n",
       "      <th>val_loss</th>\n",
       "    </tr>\n",
       "  </thead>\n",
       "  <tbody>\n",
       "    <tr>\n",
       "      <th>0</th>\n",
       "      <td>0.779333</td>\n",
       "      <td>0.530164</td>\n",
       "      <td>0.8532</td>\n",
       "      <td>0.418171</td>\n",
       "    </tr>\n",
       "    <tr>\n",
       "      <th>1</th>\n",
       "      <td>0.892533</td>\n",
       "      <td>0.334829</td>\n",
       "      <td>0.8790</td>\n",
       "      <td>0.324278</td>\n",
       "    </tr>\n",
       "    <tr>\n",
       "      <th>2</th>\n",
       "      <td>0.916533</td>\n",
       "      <td>0.252682</td>\n",
       "      <td>0.8883</td>\n",
       "      <td>0.291025</td>\n",
       "    </tr>\n",
       "    <tr>\n",
       "      <th>3</th>\n",
       "      <td>0.934333</td>\n",
       "      <td>0.203479</td>\n",
       "      <td>0.8753</td>\n",
       "      <td>0.308803</td>\n",
       "    </tr>\n",
       "    <tr>\n",
       "      <th>4</th>\n",
       "      <td>0.944933</td>\n",
       "      <td>0.169015</td>\n",
       "      <td>0.8785</td>\n",
       "      <td>0.302564</td>\n",
       "    </tr>\n",
       "    <tr>\n",
       "      <th>5</th>\n",
       "      <td>0.954267</td>\n",
       "      <td>0.145294</td>\n",
       "      <td>0.8880</td>\n",
       "      <td>0.282994</td>\n",
       "    </tr>\n",
       "    <tr>\n",
       "      <th>6</th>\n",
       "      <td>0.962400</td>\n",
       "      <td>0.124615</td>\n",
       "      <td>0.8857</td>\n",
       "      <td>0.292054</td>\n",
       "    </tr>\n",
       "    <tr>\n",
       "      <th>7</th>\n",
       "      <td>0.967133</td>\n",
       "      <td>0.107711</td>\n",
       "      <td>0.8832</td>\n",
       "      <td>0.305350</td>\n",
       "    </tr>\n",
       "    <tr>\n",
       "      <th>8</th>\n",
       "      <td>0.975400</td>\n",
       "      <td>0.092767</td>\n",
       "      <td>0.8826</td>\n",
       "      <td>0.321452</td>\n",
       "    </tr>\n",
       "    <tr>\n",
       "      <th>9</th>\n",
       "      <td>0.979600</td>\n",
       "      <td>0.079658</td>\n",
       "      <td>0.8715</td>\n",
       "      <td>0.350272</td>\n",
       "    </tr>\n",
       "    <tr>\n",
       "      <th>10</th>\n",
       "      <td>0.982000</td>\n",
       "      <td>0.070258</td>\n",
       "      <td>0.8810</td>\n",
       "      <td>0.348314</td>\n",
       "    </tr>\n",
       "    <tr>\n",
       "      <th>11</th>\n",
       "      <td>0.987800</td>\n",
       "      <td>0.058217</td>\n",
       "      <td>0.8793</td>\n",
       "      <td>0.373322</td>\n",
       "    </tr>\n",
       "    <tr>\n",
       "      <th>12</th>\n",
       "      <td>0.989400</td>\n",
       "      <td>0.049363</td>\n",
       "      <td>0.8723</td>\n",
       "      <td>0.394339</td>\n",
       "    </tr>\n",
       "    <tr>\n",
       "      <th>13</th>\n",
       "      <td>0.991533</td>\n",
       "      <td>0.043558</td>\n",
       "      <td>0.8648</td>\n",
       "      <td>0.479280</td>\n",
       "    </tr>\n",
       "    <tr>\n",
       "      <th>14</th>\n",
       "      <td>0.992200</td>\n",
       "      <td>0.039399</td>\n",
       "      <td>0.8722</td>\n",
       "      <td>0.430638</td>\n",
       "    </tr>\n",
       "    <tr>\n",
       "      <th>15</th>\n",
       "      <td>0.995000</td>\n",
       "      <td>0.030592</td>\n",
       "      <td>0.8746</td>\n",
       "      <td>0.458590</td>\n",
       "    </tr>\n",
       "    <tr>\n",
       "      <th>16</th>\n",
       "      <td>0.994400</td>\n",
       "      <td>0.027546</td>\n",
       "      <td>0.8638</td>\n",
       "      <td>0.489828</td>\n",
       "    </tr>\n",
       "    <tr>\n",
       "      <th>17</th>\n",
       "      <td>0.995800</td>\n",
       "      <td>0.024059</td>\n",
       "      <td>0.8724</td>\n",
       "      <td>0.500066</td>\n",
       "    </tr>\n",
       "    <tr>\n",
       "      <th>18</th>\n",
       "      <td>0.998200</td>\n",
       "      <td>0.018530</td>\n",
       "      <td>0.8701</td>\n",
       "      <td>0.506119</td>\n",
       "    </tr>\n",
       "    <tr>\n",
       "      <th>19</th>\n",
       "      <td>0.996667</td>\n",
       "      <td>0.018773</td>\n",
       "      <td>0.8697</td>\n",
       "      <td>0.529404</td>\n",
       "    </tr>\n",
       "  </tbody>\n",
       "</table>\n",
       "</div>"
      ],
      "text/plain": [
       "    accuracy      loss  val_accuracy  val_loss\n",
       "0   0.779333  0.530164        0.8532  0.418171\n",
       "1   0.892533  0.334829        0.8790  0.324278\n",
       "2   0.916533  0.252682        0.8883  0.291025\n",
       "3   0.934333  0.203479        0.8753  0.308803\n",
       "4   0.944933  0.169015        0.8785  0.302564\n",
       "5   0.954267  0.145294        0.8880  0.282994\n",
       "6   0.962400  0.124615        0.8857  0.292054\n",
       "7   0.967133  0.107711        0.8832  0.305350\n",
       "8   0.975400  0.092767        0.8826  0.321452\n",
       "9   0.979600  0.079658        0.8715  0.350272\n",
       "10  0.982000  0.070258        0.8810  0.348314\n",
       "11  0.987800  0.058217        0.8793  0.373322\n",
       "12  0.989400  0.049363        0.8723  0.394339\n",
       "13  0.991533  0.043558        0.8648  0.479280\n",
       "14  0.992200  0.039399        0.8722  0.430638\n",
       "15  0.995000  0.030592        0.8746  0.458590\n",
       "16  0.994400  0.027546        0.8638  0.489828\n",
       "17  0.995800  0.024059        0.8724  0.500066\n",
       "18  0.998200  0.018530        0.8701  0.506119\n",
       "19  0.996667  0.018773        0.8697  0.529404"
      ]
     },
     "execution_count": 30,
     "metadata": {},
     "output_type": "execute_result"
    }
   ],
   "source": [
    "loss_and_metrics"
   ]
  },
  {
   "cell_type": "markdown",
   "id": "19f85af0-e23b-454f-9c48-fd0a7c5f0896",
   "metadata": {},
   "source": [
    "**NOTICE** val_accuracy falling after 4th epoch. and val_loss increasing after 4th epoch. \n",
    "\n",
    "The model is **overfitting** after 4th epoch."
   ]
  },
  {
   "cell_type": "code",
   "execution_count": 31,
   "id": "1545763c-e046-4dd2-9c98-36cde3991e3a",
   "metadata": {},
   "outputs": [
    {
     "data": {
      "image/png": "[encoded data removed]",
      "text/plain": [
       "<Figure size 640x480 with 1 Axes>"
      ]
     },
     "metadata": {},
     "output_type": "display_data"
    }
   ],
   "source": [
    "plt.plot(loss_and_metrics.index, loss_and_metrics.loss, \"bo\", label=\"train loss\")\n",
    "plt.plot(loss_and_metrics.index, loss_and_metrics.val_loss, \"b-\", label=\"val loss\")\n",
    "plt.ylabel('Loss')\n",
    "plt.xlabel('epoch')\n",
    "plt.xticks(ticks=np.arange(len(loss_and_metrics)), labels=np.arange(1, len(loss_and_metrics) + 1))\n",
    "plt.legend()\n",
    "plt.title('Training and validation loss')\n",
    "plt.show()"
   ]
  },
  {
   "cell_type": "code",
   "execution_count": 32,
   "id": "28568def-d3d1-4c80-99d1-f3e3f4c729b6",
   "metadata": {},
   "outputs": [
    {
     "data": {
      "image/png": "[encoded data removed]",
      "text/plain": [
       "<Figure size 640x480 with 1 Axes>"
      ]
     },
     "metadata": {},
     "output_type": "display_data"
    }
   ],
   "source": [
    "plt.plot(loss_and_metrics.index, loss_and_metrics.accuracy, \"bo\", label=\"train acc\")\n",
    "plt.plot(loss_and_metrics.index, loss_and_metrics.val_accuracy, \"b-\", label=\"val acc\")\n",
    "plt.ylabel('Accuracy')\n",
    "plt.xlabel('epoch')\n",
    "plt.xticks(ticks=np.arange(len(loss_and_metrics)), labels=np.arange(1, len(loss_and_metrics) + 1))\n",
    "plt.legend()\n",
    "plt.title('Training and validation accuracy')\n",
    "plt.show()"
   ]
  },
  {
   "cell_type": "markdown",
   "id": "3bb89851-6cb4-4a75-8795-c20490c14869",
   "metadata": {},
   "source": [
    "## Final model training and evaluation on test data:"
   ]
  },
  {
   "cell_type": "markdown",
   "id": "6f9d1eb2-8cde-49ed-a324-da34257e1755",
   "metadata": {},
   "source": [
    "Lets train a new model from scratch for 4 epochs and then evaluate it on the test data."
   ]
  },
  {
   "cell_type": "code",
   "execution_count": 33,
   "id": "5a1eaf28-652f-4fe5-94df-064fb1ce2357",
   "metadata": {},
   "outputs": [],
   "source": [
    "model = keras.Sequential([\n",
    "    layers.Dense(units=16, activation=\"relu\"),\n",
    "    layers.Dense(units=16, activation=\"relu\"),\n",
    "    layers.Dense(units=1, activation=\"sigmoid\")\n",
    "])"
   ]
  },
  {
   "cell_type": "code",
   "execution_count": 34,
   "id": "9c710285-a0f1-434e-9e7a-e9ef448fbc8b",
   "metadata": {},
   "outputs": [],
   "source": [
    "model.compile(\n",
    "    optimizer=\"rmsprop\",\n",
    "    loss=\"binary_crossentropy\",\n",
    "    metrics=[\"accuracy\"]\n",
    ")"
   ]
  },
  {
   "cell_type": "code",
   "execution_count": 35,
   "id": "e4607aab-3f1d-43a0-bdab-08a30fa71665",
   "metadata": {},
   "outputs": [
    {
     "name": "stdout",
     "output_type": "stream",
     "text": [
      "Epoch 1/4\n",
      "\u001b[1m49/49\u001b[0m \u001b[32m━━━━━━━━━━━━━━━━━━━━\u001b[0m\u001b[37m\u001b[0m \u001b[1m1s\u001b[0m 4ms/step - accuracy: 0.7353 - loss: 0.5470\n",
      "Epoch 2/4\n",
      "\u001b[1m49/49\u001b[0m \u001b[32m━━━━━━━━━━━━━━━━━━━━\u001b[0m\u001b[37m\u001b[0m \u001b[1m0s\u001b[0m 4ms/step - accuracy: 0.9100 - loss: 0.2718\n",
      "Epoch 3/4\n",
      "\u001b[1m49/49\u001b[0m \u001b[32m━━━━━━━━━━━━━━━━━━━━\u001b[0m\u001b[37m\u001b[0m \u001b[1m0s\u001b[0m 4ms/step - accuracy: 0.9302 - loss: 0.2049\n",
      "Epoch 4/4\n",
      "\u001b[1m49/49\u001b[0m \u001b[32m━━━━━━━━━━━━━━━━━━━━\u001b[0m\u001b[37m\u001b[0m \u001b[1m0s\u001b[0m 4ms/step - accuracy: 0.9396 - loss: 0.1716\n"
     ]
    },
    {
     "data": {
      "text/plain": [
       "<keras.src.callbacks.history.History at 0x1a9376e51f0>"
      ]
     },
     "execution_count": 35,
     "metadata": {},
     "output_type": "execute_result"
    }
   ],
   "source": [
    "model.fit(x_train, y_train, epochs=4, batch_size=512)"
   ]
  },
  {
   "cell_type": "code",
   "execution_count": 36,
   "id": "da9a7e9a-fac0-4fe7-9826-2306def018e5",
   "metadata": {},
   "outputs": [
    {
     "name": "stdout",
     "output_type": "stream",
     "text": [
      "\u001b[1m782/782\u001b[0m \u001b[32m━━━━━━━━━━━━━━━━━━━━\u001b[0m\u001b[37m\u001b[0m \u001b[1m1s\u001b[0m 836us/step - accuracy: 0.8793 - loss: 0.2971\n"
     ]
    }
   ],
   "source": [
    "result = model.evaluate(x_test, y_test)"
   ]
  },
  {
   "cell_type": "code",
   "execution_count": 37,
   "id": "5487781f-60a1-4e53-93f2-484cee5055df",
   "metadata": {},
   "outputs": [
    {
     "data": {
      "text/plain": [
       "list"
      ]
     },
     "execution_count": 37,
     "metadata": {},
     "output_type": "execute_result"
    }
   ],
   "source": [
    "type(result)"
   ]
  },
  {
   "cell_type": "code",
   "execution_count": 38,
   "id": "4e16a5a9-ca98-41ad-b124-e712d8a8e59a",
   "metadata": {},
   "outputs": [
    {
     "data": {
      "text/plain": [
       "[0.2934325337409973, 0.8831599950790405]"
      ]
     },
     "execution_count": 38,
     "metadata": {},
     "output_type": "execute_result"
    }
   ],
   "source": [
    "result"
   ]
  },
  {
   "cell_type": "markdown",
   "id": "3dee922f-70cc-44ba-934a-23041da07e77",
   "metadata": {},
   "source": [
    "result represents [test_loss, test_accuracy]"
   ]
  },
  {
   "cell_type": "code",
   "execution_count": 39,
   "id": "704e1668-a9e7-4aac-9790-69dadb633ccd",
   "metadata": {},
   "outputs": [
    {
     "name": "stdout",
     "output_type": "stream",
     "text": [
      "The final model has accuracy of 88.32%\n"
     ]
    }
   ],
   "source": [
    "print(f\"The final model has accuracy of {result[1] * 100:.2f}%\")"
   ]
  }
 ],
 "metadata": {
  "kernelspec": {
   "display_name": "Python 3 (ipykernel)",
   "language": "python",
   "name": "python3"
  },
  "language_info": {
   "codemirror_mode": {
    "name": "ipython",
    "version": 3
   },
   "file_extension": ".py",
   "mimetype": "text/x-python",
   "name": "python",
   "nbconvert_exporter": "python",
   "pygments_lexer": "ipython3",
   "version": "3.9.6"
  }
 },
 "nbformat": 4,
 "nbformat_minor": 5
}
